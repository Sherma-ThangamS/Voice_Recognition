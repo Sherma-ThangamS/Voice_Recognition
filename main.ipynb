{
 "cells": [
  {
   "cell_type": "code",
   "execution_count": 1,
   "metadata": {},
   "outputs": [],
   "source": [
    "import os\n",
    "import librosa\n",
    "import numpy as np\n",
    "from sklearn.model_selection import train_test_split\n",
    "from sklearn.preprocessing import LabelEncoder\n",
    "import tensorflow as tf\n",
    "from sklearn.preprocessing import StandardScaler\n",
    "from sklearn.metrics import accuracy_score\n",
    "from keras.models import Sequential\n",
    "from keras.layers import Conv2D, MaxPooling2D, Flatten, Dense, Dropout, BatchNormalization\n",
    "from keras.callbacks import EarlyStopping\n",
    "from keras.regularizers import l2\n",
    "from keras.optimizers import Adamax\n",
    "\n",
    "data_path = 'C:\\_PROJECT_\\Speech Recognition\\Data'\n",
    "class_labels = os.listdir(data_path)\n",
    "\n",
    "sampling_rate =25050  \n",
    "n_mfcc = 20 \n",
    "hop_length = 550  \n",
    "\n",
    "features = []\n",
    "labels = []\n",
    "\n",
    "for label in class_labels:\n",
    "    label_path = os.path.join(data_path, label)\n",
    "    for audio_file in os.listdir(label_path):\n",
    "        audio, _ = librosa.load(os.path.join(label_path, audio_file), sr=sampling_rate)\n",
    "        mfccs = librosa.feature.mfcc(y=audio, sr=sampling_rate, n_mfcc=n_mfcc, hop_length=hop_length)\n",
    "        features.append(mfccs.T)  \n",
    "        labels.append(label)\n",
    "\n",
    "label_encoder = LabelEncoder()\n",
    "encoded_labels = label_encoder.fit_transform(labels)\n",
    "\n",
    "X_train, X_test, y_train, y_test = train_test_split(features, encoded_labels, test_size=0.2, random_state=42)\n",
    "\n"
   ]
  },
  {
   "cell_type": "code",
   "execution_count": 2,
   "metadata": {},
   "outputs": [
    {
     "name": "stderr",
     "output_type": "stream",
     "text": [
      "C:\\Users\\sherm\\AppData\\Local\\Temp\\ipykernel_5320\\954492346.py:1: VisibleDeprecationWarning: Creating an ndarray from ragged nested sequences (which is a list-or-tuple of lists-or-tuples-or ndarrays with different lengths or shapes) is deprecated. If you meant to do this, you must specify 'dtype=object' when creating the ndarray.\n",
      "  X_test=np.array(X_test)\n",
      "C:\\Users\\sherm\\AppData\\Local\\Temp\\ipykernel_5320\\954492346.py:4: VisibleDeprecationWarning: Creating an ndarray from ragged nested sequences (which is a list-or-tuple of lists-or-tuples-or ndarrays with different lengths or shapes) is deprecated. If you meant to do this, you must specify 'dtype=object' when creating the ndarray.\n",
      "  X_train=np.array(X_train)\n"
     ]
    }
   ],
   "source": [
    "X_test=np.array(X_test)\n",
    "y_test=np.array(y_test)\n",
    "y_train=np.array(y_train)\n",
    "X_train=np.array(X_train)"
   ]
  },
  {
   "cell_type": "code",
   "execution_count": 3,
   "metadata": {},
   "outputs": [],
   "source": [
    "m =0\n",
    "n=0\n",
    "for i in range(X_train.shape[0]):\n",
    "    if(X_train[i].shape[0]>m):\n",
    "        m=X_train[i].shape[0]\n",
    "    if(X_train[i].shape[1]>n):\n",
    "        n=X_train[i].shape[1]"
   ]
  },
  {
   "cell_type": "code",
   "execution_count": 4,
   "metadata": {},
   "outputs": [],
   "source": [
    "\n",
    "max_shape = (m, n)  \n",
    "X_train_processed = []\n",
    "X_test_processed = []\n",
    "\n",
    "for sample in X_train:\n",
    "    if sample.shape[0] < max_shape[0]:\n",
    "        padding = np.zeros((max_shape[0] - sample.shape[0], max_shape[1]))\n",
    "        processed_sample = np.vstack((sample, padding))\n",
    "    else:\n",
    "        processed_sample = sample[:max_shape[0], :]\n",
    "\n",
    "    X_train_processed.append(processed_sample)\n",
    "\n",
    "for sample in X_test:\n",
    "    if sample.shape[0] < max_shape[0]:\n",
    "        padding = np.zeros((max_shape[0] - sample.shape[0], max_shape[1]))\n",
    "        processed_sample = np.vstack((sample, padding))\n",
    "    else:\n",
    "        processed_sample = sample[:max_shape[0], :]\n",
    "\n",
    "    X_test_processed.append(processed_sample)\n",
    "\n",
    "X_train_processed = np.array(X_train_processed)\n",
    "X_test_processed = np.array(X_test_processed)\n",
    "\n"
   ]
  },
  {
   "cell_type": "code",
   "execution_count": 41,
   "metadata": {},
   "outputs": [
    {
     "name": "stdout",
     "output_type": "stream",
     "text": [
      "Epoch 1/30\n",
      "9/9 [==============================] - 1s 92ms/step - loss: 5.4111 - accuracy: 0.0741 - val_loss: 4.9134 - val_accuracy: 0.1176\n",
      "Epoch 2/30\n",
      "9/9 [==============================] - 1s 74ms/step - loss: 4.7676 - accuracy: 0.0815 - val_loss: 4.6512 - val_accuracy: 0.0735\n",
      "Epoch 3/30\n",
      "9/9 [==============================] - 1s 73ms/step - loss: 4.5725 - accuracy: 0.1296 - val_loss: 4.4780 - val_accuracy: 0.1618\n",
      "Epoch 4/30\n",
      "9/9 [==============================] - 1s 78ms/step - loss: 4.4264 - accuracy: 0.1407 - val_loss: 4.3009 - val_accuracy: 0.1912\n",
      "Epoch 5/30\n",
      "9/9 [==============================] - 1s 108ms/step - loss: 4.3004 - accuracy: 0.1741 - val_loss: 4.1797 - val_accuracy: 0.2206\n",
      "Epoch 6/30\n",
      "9/9 [==============================] - 1s 132ms/step - loss: 4.1480 - accuracy: 0.2222 - val_loss: 4.0224 - val_accuracy: 0.3088\n",
      "Epoch 7/30\n",
      "9/9 [==============================] - 1s 128ms/step - loss: 3.9320 - accuracy: 0.2407 - val_loss: 3.8894 - val_accuracy: 0.2941\n",
      "Epoch 8/30\n",
      "9/9 [==============================] - 1s 132ms/step - loss: 3.8823 - accuracy: 0.2556 - val_loss: 3.8330 - val_accuracy: 0.3235\n",
      "Epoch 9/30\n",
      "9/9 [==============================] - 1s 135ms/step - loss: 3.7514 - accuracy: 0.3148 - val_loss: 3.6854 - val_accuracy: 0.3529\n",
      "Epoch 10/30\n",
      "9/9 [==============================] - 1s 138ms/step - loss: 3.6308 - accuracy: 0.3704 - val_loss: 3.5953 - val_accuracy: 0.3824\n",
      "Epoch 11/30\n",
      "9/9 [==============================] - 1s 128ms/step - loss: 3.4895 - accuracy: 0.3741 - val_loss: 3.5300 - val_accuracy: 0.3529\n",
      "Epoch 12/30\n",
      "9/9 [==============================] - 1s 126ms/step - loss: 3.3540 - accuracy: 0.3889 - val_loss: 3.4289 - val_accuracy: 0.3971\n",
      "Epoch 13/30\n",
      "9/9 [==============================] - 1s 135ms/step - loss: 3.2319 - accuracy: 0.3889 - val_loss: 3.4228 - val_accuracy: 0.3824\n",
      "Epoch 14/30\n",
      "9/9 [==============================] - 1s 140ms/step - loss: 3.0753 - accuracy: 0.4778 - val_loss: 3.3006 - val_accuracy: 0.3971\n",
      "Epoch 15/30\n",
      "9/9 [==============================] - 1s 131ms/step - loss: 3.1203 - accuracy: 0.4630 - val_loss: 3.2992 - val_accuracy: 0.4559\n",
      "Epoch 16/30\n",
      "9/9 [==============================] - 1s 144ms/step - loss: 2.9990 - accuracy: 0.4667 - val_loss: 3.2071 - val_accuracy: 0.4853\n",
      "Epoch 17/30\n",
      "9/9 [==============================] - 2s 173ms/step - loss: 2.7156 - accuracy: 0.5593 - val_loss: 3.1494 - val_accuracy: 0.4706\n",
      "Epoch 18/30\n",
      "9/9 [==============================] - 1s 143ms/step - loss: 2.6980 - accuracy: 0.5593 - val_loss: 3.0681 - val_accuracy: 0.5294\n",
      "Epoch 19/30\n",
      "9/9 [==============================] - 1s 139ms/step - loss: 2.5060 - accuracy: 0.6481 - val_loss: 3.0683 - val_accuracy: 0.5000\n",
      "Epoch 20/30\n",
      "9/9 [==============================] - 1s 128ms/step - loss: 2.6051 - accuracy: 0.6074 - val_loss: 3.0899 - val_accuracy: 0.4706\n",
      "Epoch 21/30\n",
      "9/9 [==============================] - 1s 133ms/step - loss: 2.5556 - accuracy: 0.5741 - val_loss: 3.0122 - val_accuracy: 0.4853\n",
      "Epoch 22/30\n",
      "9/9 [==============================] - 1s 136ms/step - loss: 2.4624 - accuracy: 0.6148 - val_loss: 2.8878 - val_accuracy: 0.5588\n",
      "Epoch 23/30\n",
      "9/9 [==============================] - 1s 136ms/step - loss: 2.3402 - accuracy: 0.6778 - val_loss: 2.8908 - val_accuracy: 0.5735\n",
      "Epoch 24/30\n",
      "9/9 [==============================] - 1s 133ms/step - loss: 2.2880 - accuracy: 0.6815 - val_loss: 2.8017 - val_accuracy: 0.6324\n",
      "Epoch 25/30\n",
      "9/9 [==============================] - 1s 147ms/step - loss: 2.1469 - accuracy: 0.7222 - val_loss: 2.8186 - val_accuracy: 0.5588\n",
      "Epoch 26/30\n",
      "9/9 [==============================] - 1s 132ms/step - loss: 2.1774 - accuracy: 0.6704 - val_loss: 2.8390 - val_accuracy: 0.5735\n",
      "Epoch 27/30\n",
      "9/9 [==============================] - 1s 133ms/step - loss: 2.1105 - accuracy: 0.7037 - val_loss: 2.8088 - val_accuracy: 0.5882\n"
     ]
    }
   ],
   "source": [
    "model = Sequential()\n",
    "from keras.optimizers import Adamax\n",
    "model.add(Conv2D(32, kernel_size=(3, 3), activation='relu', input_shape=(X_train_processed.shape[1], X_train_processed.shape[2], 1)))\n",
    "model.add(BatchNormalization())\n",
    "model.add(MaxPooling2D(pool_size=(2, 2)))\n",
    "\n",
    "model.add(Conv2D(64, kernel_size=(3, 3), activation='relu', kernel_regularizer=l2(0.01)))\n",
    "model.add(MaxPooling2D(pool_size=(2, 2)))\n",
    "\n",
    "model.add(Conv2D(64, kernel_size=(3, 3), activation='relu', kernel_regularizer=l2(0.01)))\n",
    "model.add(MaxPooling2D(pool_size=(1, 1)))\n",
    "\n",
    "model.add(Flatten())\n",
    "model.add(Dense(64, activation='relu', kernel_regularizer=l2(0.01))) \n",
    "model.add(Dropout(0.5))\n",
    "model.add(Dense(len(class_labels), activation='softmax')) \n",
    "\n",
    "model.compile(loss='sparse_categorical_crossentropy', optimizer=Adamax(), metrics=['accuracy'])\n",
    "\n",
    "X_train_processed = X_train_processed.reshape(X_train_processed.shape[0], X_train_processed.shape[1], X_train_processed.shape[2], 1)\n",
    "X_test_processed = X_test_processed.reshape(X_test_processed.shape[0], X_test_processed.shape[1], X_test_processed.shape[2], 1)\n",
    "\n",
    "early_stopping = EarlyStopping(monitor='val_loss', patience=3)  \n",
    "\n",
    "history = model.fit(X_train_processed, y_train, validation_data=(X_test_processed, y_test), epochs=30, batch_size=32, callbacks=[early_stopping])\n",
    "\n"
   ]
  },
  {
   "cell_type": "code",
   "execution_count": 68,
   "metadata": {},
   "outputs": [
    {
     "name": "stdout",
     "output_type": "stream",
     "text": [
      "Epoch 1/10\n",
      "9/9 [==============================] - 1s 77ms/step - loss: 0.7465 - accuracy: 0.9556 - val_loss: 1.8050 - val_accuracy: 0.7059\n",
      "Epoch 2/10\n",
      "9/9 [==============================] - 1s 112ms/step - loss: 0.7439 - accuracy: 0.9481 - val_loss: 1.9982 - val_accuracy: 0.6912\n"
     ]
    }
   ],
   "source": [
    "early_stopping = EarlyStopping(monitor='val_loss', patience=1)\n",
    "history = model.fit(X_train_processed, y_train, validation_data=(X_test_processed, y_test), epochs=10, batch_size=32, callbacks=[early_stopping])\n"
   ]
  },
  {
   "cell_type": "code",
   "execution_count": 39,
   "metadata": {},
   "outputs": [
    {
     "name": "stdout",
     "output_type": "stream",
     "text": [
      "9/9 [==============================] - 0s 19ms/step - loss: 1.7793 - accuracy: 0.9778\n",
      "Accuracy Close dataset: 97.777778%\n"
     ]
    }
   ],
   "source": [
    "ac=model.evaluate(X_train_processed, y_train)[1]\n",
    "print(f\"Accuracy Close dataset: {ac* 100:f}%\")"
   ]
  },
  {
   "cell_type": "code",
   "execution_count": 60,
   "metadata": {},
   "outputs": [
    {
     "name": "stdout",
     "output_type": "stream",
     "text": [
      "3/3 [==============================] - 0s 13ms/step - loss: 1.9058 - accuracy: 0.7206\n",
      "Accuracy Open dataset: 72.06%\n"
     ]
    }
   ],
   "source": [
    "accuracy = model.evaluate(X_test_processed, y_test)[1]\n",
    "print(f\"Accuracy Open dataset: {accuracy * 100:.2f}%\")"
   ]
  }
 ],
 "metadata": {
  "kernelspec": {
   "display_name": "Python 3",
   "language": "python",
   "name": "python3"
  },
  "language_info": {
   "codemirror_mode": {
    "name": "ipython",
    "version": 3
   },
   "file_extension": ".py",
   "mimetype": "text/x-python",
   "name": "python",
   "nbconvert_exporter": "python",
   "pygments_lexer": "ipython3",
   "version": "3.10.9"
  },
  "orig_nbformat": 4
 },
 "nbformat": 4,
 "nbformat_minor": 2
}
